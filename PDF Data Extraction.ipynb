{
 "cells": [
  {
   "cell_type": "markdown",
   "id": "b635f5c8-640d-43e4-a9c7-b3a70f5fddf9",
   "metadata": {},
   "source": [
    "### PyPDF Tutorial\n",
    "\n",
    "#### Installing\n",
    "+ pip install pypdf2\n",
    "\n",
    "#### Task\n",
    "+ How to Extract text from PDF file using PyPDF2\n",
    "+ How to merge and split PDF files\n",
    "+ How to get the last page of PDF\n",
    "+ How to Rotate PDF\n",
    "+ How to extract images from pdf\n",
    "+ How to extract tables from pdf\n",
    "+ How to convert image to pdf\n",
    "+ How to create pdf from text file\n",
    "+ How to Encrypt a PDF file using PyPDF2\n",
    "+ How to add a watermark to a PDF file"
   ]
  },
  {
   "cell_type": "markdown",
   "id": "b3053e44-b5a4-4460-814d-7757d28c5c5d",
   "metadata": {},
   "source": [
    "#### List of Useful PDF Pkgs\n",
    "+ PyPDF2\n",
    "+ fpdf\n",
    "+ pdfminer\n",
    "+ pdfblumber\n",
    "+ img2pdf\n",
    "+ tabular\n",
    "+ camelot.py\n",
    "+ pdflatex\n",
    "+ reportlab\n",
    "+ etc"
   ]
  },
  {
   "cell_type": "code",
   "execution_count": 1,
   "id": "41410e07-b8bc-474d-8121-5280cb211ad9",
   "metadata": {},
   "outputs": [],
   "source": [
    "# Load the packages\n",
    "import PyPDF2 as pdf"
   ]
  },
  {
   "cell_type": "code",
   "execution_count": 2,
   "id": "0e13984d-a546-4859-a8f7-09a9bc52e229",
   "metadata": {},
   "outputs": [
    {
     "data": {
      "text/plain": [
       "'3.0.1'"
      ]
     },
     "execution_count": 2,
     "metadata": {},
     "output_type": "execute_result"
    }
   ],
   "source": [
    "# Check version\n",
    "pdf.__version__"
   ]
  },
  {
   "cell_type": "code",
   "execution_count": 3,
   "id": "b26284f8-6360-4e0d-8957-1f556396d947",
   "metadata": {
    "jupyter": {
     "outputs_hidden": true
    },
    "tags": []
   },
   "outputs": [
    {
     "data": {
      "text/plain": [
       "['DocumentInformation',\n",
       " 'PageObject',\n",
       " 'PageRange',\n",
       " 'PaperSize',\n",
       " 'PasswordType',\n",
       " 'PdfFileMerger',\n",
       " 'PdfFileReader',\n",
       " 'PdfFileWriter',\n",
       " 'PdfMerger',\n",
       " 'PdfReader',\n",
       " 'PdfWriter',\n",
       " 'Transformation',\n",
       " '__all__',\n",
       " '__builtins__',\n",
       " '__cached__',\n",
       " '__doc__',\n",
       " '__file__',\n",
       " '__loader__',\n",
       " '__name__',\n",
       " '__package__',\n",
       " '__path__',\n",
       " '__spec__',\n",
       " '__version__',\n",
       " '__warningregistry__',\n",
       " '_cmap',\n",
       " '_codecs',\n",
       " '_encryption',\n",
       " '_merger',\n",
       " '_page',\n",
       " '_protocols',\n",
       " '_reader',\n",
       " '_security',\n",
       " '_utils',\n",
       " '_version',\n",
       " '_writer',\n",
       " 'constants',\n",
       " 'errors',\n",
       " 'filters',\n",
       " 'generic',\n",
       " 'pagerange',\n",
       " 'papersizes',\n",
       " 'parse_filename_page_ranges',\n",
       " 'types',\n",
       " 'warnings',\n",
       " 'xmp']"
      ]
     },
     "execution_count": 3,
     "metadata": {},
     "output_type": "execute_result"
    }
   ],
   "source": [
    "# Methods\n",
    "dir(pdf)"
   ]
  },
  {
   "cell_type": "markdown",
   "id": "83923690-e999-43fc-a2db-ec8b89739249",
   "metadata": {},
   "source": [
    "#### How to Read a PDF File in Python\n",
    "With PyPDF2 you can open and read a pdf file.\n",
    "#### NB: The ..File.. class has been deprecated\n",
    "+ eg use PdfReader PdfFileReader "
   ]
  },
  {
   "cell_type": "code",
   "execution_count": 4,
   "id": "b16b3617-943f-4056-a6f2-2555a24523e7",
   "metadata": {},
   "outputs": [],
   "source": [
    "from PyPDF2 import PdfReader, PdfWriter"
   ]
  },
  {
   "cell_type": "code",
   "execution_count": 5,
   "id": "6b9b5e79-1411-4bae-a67b-0ec098b70461",
   "metadata": {},
   "outputs": [],
   "source": [
    "# Get Info of Open PDF File\n",
    "file = open(\"Nativity_Example.pdf\",\"rb\")\n",
    "reader = PdfReader(file)"
   ]
  },
  {
   "cell_type": "code",
   "execution_count": 6,
   "id": "e85ba515-3ae8-4f59-93de-b7ef718e5072",
   "metadata": {
    "jupyter": {
     "outputs_hidden": true
    },
    "tags": []
   },
   "outputs": [
    {
     "ename": "DeprecationError",
     "evalue": "getDocumentInfo is deprecated and was removed in PyPDF2 3.0.0. Use metadata instead.",
     "output_type": "error",
     "traceback": [
      "\u001b[1;31m---------------------------------------------------------------------------\u001b[0m",
      "\u001b[1;31mDeprecationError\u001b[0m                          Traceback (most recent call last)",
      "\u001b[1;32m~\\AppData\\Local\\Temp\\ipykernel_1644\\1927883012.py\u001b[0m in \u001b[0;36m<module>\u001b[1;34m\u001b[0m\n\u001b[1;32m----> 1\u001b[1;33m \u001b[0mreader\u001b[0m\u001b[1;33m.\u001b[0m\u001b[0mgetDocumentInfo\u001b[0m\u001b[1;33m(\u001b[0m\u001b[1;33m)\u001b[0m\u001b[1;33m\u001b[0m\u001b[1;33m\u001b[0m\u001b[0m\n\u001b[0m",
      "\u001b[1;32m~\\anaconda\\lib\\site-packages\\PyPDF2\\_reader.py\u001b[0m in \u001b[0;36mgetDocumentInfo\u001b[1;34m(self)\u001b[0m\n\u001b[0;32m    384\u001b[0m             \u001b[0mUse\u001b[0m \u001b[0mthe\u001b[0m \u001b[0mattribute\u001b[0m \u001b[1;33m:\u001b[0m\u001b[0mpy\u001b[0m\u001b[1;33m:\u001b[0m\u001b[0mattr\u001b[0m\u001b[1;33m:\u001b[0m\u001b[0;31m`\u001b[0m\u001b[0mmetadata\u001b[0m\u001b[0;31m`\u001b[0m \u001b[0minstead\u001b[0m\u001b[1;33m.\u001b[0m\u001b[1;33m\u001b[0m\u001b[1;33m\u001b[0m\u001b[0m\n\u001b[0;32m    385\u001b[0m         \"\"\"\n\u001b[1;32m--> 386\u001b[1;33m         \u001b[0mdeprecation_with_replacement\u001b[0m\u001b[1;33m(\u001b[0m\u001b[1;34m\"getDocumentInfo\"\u001b[0m\u001b[1;33m,\u001b[0m \u001b[1;34m\"metadata\"\u001b[0m\u001b[1;33m,\u001b[0m \u001b[1;34m\"3.0.0\"\u001b[0m\u001b[1;33m)\u001b[0m\u001b[1;33m\u001b[0m\u001b[1;33m\u001b[0m\u001b[0m\n\u001b[0m\u001b[0;32m    387\u001b[0m         \u001b[1;32mreturn\u001b[0m \u001b[0mself\u001b[0m\u001b[1;33m.\u001b[0m\u001b[0mmetadata\u001b[0m\u001b[1;33m\u001b[0m\u001b[1;33m\u001b[0m\u001b[0m\n\u001b[0;32m    388\u001b[0m \u001b[1;33m\u001b[0m\u001b[0m\n",
      "\u001b[1;32m~\\anaconda\\lib\\site-packages\\PyPDF2\\_utils.py\u001b[0m in \u001b[0;36mdeprecation_with_replacement\u001b[1;34m(old_name, new_name, removed_in)\u001b[0m\n\u001b[0;32m    367\u001b[0m     \u001b[0mRaise\u001b[0m \u001b[0man\u001b[0m \u001b[0mexception\u001b[0m \u001b[0mthat\u001b[0m \u001b[0ma\u001b[0m \u001b[0mfeature\u001b[0m \u001b[0mwas\u001b[0m \u001b[0malready\u001b[0m \u001b[0mremoved\u001b[0m\u001b[1;33m,\u001b[0m \u001b[0mbut\u001b[0m \u001b[0mhas\u001b[0m \u001b[0ma\u001b[0m \u001b[0mreplacement\u001b[0m\u001b[1;33m.\u001b[0m\u001b[1;33m\u001b[0m\u001b[1;33m\u001b[0m\u001b[0m\n\u001b[0;32m    368\u001b[0m     \"\"\"\n\u001b[1;32m--> 369\u001b[1;33m     \u001b[0mdeprecation\u001b[0m\u001b[1;33m(\u001b[0m\u001b[0mDEPR_MSG_HAPPENED\u001b[0m\u001b[1;33m.\u001b[0m\u001b[0mformat\u001b[0m\u001b[1;33m(\u001b[0m\u001b[0mold_name\u001b[0m\u001b[1;33m,\u001b[0m \u001b[0mremoved_in\u001b[0m\u001b[1;33m,\u001b[0m \u001b[0mnew_name\u001b[0m\u001b[1;33m)\u001b[0m\u001b[1;33m)\u001b[0m\u001b[1;33m\u001b[0m\u001b[1;33m\u001b[0m\u001b[0m\n\u001b[0m\u001b[0;32m    370\u001b[0m \u001b[1;33m\u001b[0m\u001b[0m\n\u001b[0;32m    371\u001b[0m \u001b[1;33m\u001b[0m\u001b[0m\n",
      "\u001b[1;32m~\\anaconda\\lib\\site-packages\\PyPDF2\\_utils.py\u001b[0m in \u001b[0;36mdeprecation\u001b[1;34m(msg)\u001b[0m\n\u001b[0;32m    349\u001b[0m \u001b[1;33m\u001b[0m\u001b[0m\n\u001b[0;32m    350\u001b[0m \u001b[1;32mdef\u001b[0m \u001b[0mdeprecation\u001b[0m\u001b[1;33m(\u001b[0m\u001b[0mmsg\u001b[0m\u001b[1;33m:\u001b[0m \u001b[0mstr\u001b[0m\u001b[1;33m)\u001b[0m \u001b[1;33m->\u001b[0m \u001b[1;32mNone\u001b[0m\u001b[1;33m:\u001b[0m\u001b[1;33m\u001b[0m\u001b[1;33m\u001b[0m\u001b[0m\n\u001b[1;32m--> 351\u001b[1;33m     \u001b[1;32mraise\u001b[0m \u001b[0mDeprecationError\u001b[0m\u001b[1;33m(\u001b[0m\u001b[0mmsg\u001b[0m\u001b[1;33m)\u001b[0m\u001b[1;33m\u001b[0m\u001b[1;33m\u001b[0m\u001b[0m\n\u001b[0m\u001b[0;32m    352\u001b[0m \u001b[1;33m\u001b[0m\u001b[0m\n\u001b[0;32m    353\u001b[0m \u001b[1;33m\u001b[0m\u001b[0m\n",
      "\u001b[1;31mDeprecationError\u001b[0m: getDocumentInfo is deprecated and was removed in PyPDF2 3.0.0. Use metadata instead."
     ]
    }
   ],
   "source": [
    "reader.getDocumentInfo()"
   ]
  },
  {
   "cell_type": "code",
   "execution_count": 7,
   "id": "a6bbe945-7214-4e1f-8527-8e0f3cbe620b",
   "metadata": {},
   "outputs": [],
   "source": [
    "# Get the Title of the PDF Document\n",
    "# prev reader.getDocumentInfo\n",
    "info = reader.metadata"
   ]
  },
  {
   "cell_type": "code",
   "execution_count": 8,
   "id": "57b3e17b-bb5a-40b6-899e-c29e47cf591c",
   "metadata": {},
   "outputs": [
    {
     "data": {
      "text/plain": [
       "{'/Title': 'Nativity_Example',\n",
       " '/Producer': 'Skia/PDF m110 Google Docs Renderer'}"
      ]
     },
     "execution_count": 8,
     "metadata": {},
     "output_type": "execute_result"
    }
   ],
   "source": [
    "info"
   ]
  },
  {
   "cell_type": "code",
   "execution_count": 9,
   "id": "29476334-ecd5-4ad3-a29d-57c1cafd6738",
   "metadata": {},
   "outputs": [
    {
     "data": {
      "text/plain": [
       "'Nativity_Example'"
      ]
     },
     "execution_count": 9,
     "metadata": {},
     "output_type": "execute_result"
    }
   ],
   "source": [
    "# Get the title\n",
    "info.title"
   ]
  },
  {
   "cell_type": "code",
   "execution_count": 10,
   "id": "fb5d6d64-04c6-4e38-bbeb-b32af15f054d",
   "metadata": {},
   "outputs": [],
   "source": [
    "# AUthor\n",
    "info.author"
   ]
  },
  {
   "cell_type": "code",
   "execution_count": 11,
   "id": "ebee6976-d961-4c6e-a7f6-782cd9050654",
   "metadata": {},
   "outputs": [
    {
     "data": {
      "text/plain": [
       "3"
      ]
     },
     "execution_count": 11,
     "metadata": {},
     "output_type": "execute_result"
    }
   ],
   "source": [
    "# How to get number of pages\n",
    "# reader.getNumPages() ## prev \n",
    "len(reader.pages)"
   ]
  },
  {
   "cell_type": "code",
   "execution_count": 12,
   "id": "33ddcae8-bf07-4f62-9fdd-f579a24b9d84",
   "metadata": {
    "jupyter": {
     "outputs_hidden": true
    },
    "tags": []
   },
   "outputs": [
    {
     "data": {
      "text/plain": [
       "'The nativity of Jesus, nativity of Christ, birth of Jesus or birth of Christ is described in the biblical\\ngospels of Luke and Matthew . The two accounts agree that Jesus was born in Bethlehem in\\nJudaea, his mother Mary was engaged to a man named Joseph, who was descended from King\\nDavid and was not his biological father , and that his birth was caused by divine intervention.\\nMany modern scholars consider the birth narratives unhistorical because they are laced with\\ntheology and present two dif ferent accounts which cannot be harmonised into a single coherent\\nnarrative. But many others view the discussion of historicity as secondary , given that gospels\\nwere primarily written as theological documents rather than chronological timelines.\\nThe nativity is the basis for the Christian holiday of Christmas, and plays a major role in the\\nChristian liturgical year . Many Christians traditionally display small manger scenes depicting the\\nnativity in their homes, or attend nativity plays or Christmas pageants focusing on the nativity\\ncycle in the Bible. Elaborate nativity displays featuring life-sized statues are a tradition in many\\ncontinental European countries during the Christmas season.\\nThe artistic depiction of the nativity has been an important subject for Christian artists since the\\n4th century . Artistic depictions of the nativity scene since the 13th century have emphasized the\\nhumility of Jesus and promoted a more tender image of him, a major change from the early \"Lord\\nand Master\" image, mirroring changes in the common approaches taken by Christian pastoral\\nministry during the same era.\\nThe nativity of Jesus, nativity of Christ, birth of Jesus or birth of Christ is described in the biblical\\ngospels of Luke and Matthew . The two accounts agree that Jesus was born in Bethlehem in\\nJudaea, his mother Mary was engaged to a man named Joseph, who was descended from King\\nDavid and was not his biological father , and that his birth was caused by divine intervention.\\nMany modern scholars consider the birth narratives unhistorical because they are laced with\\ntheology and present two dif ferent accounts which cannot be harmonised into a single coherent\\nnarrative. But many others view the discussion of historicity as secondary , given that gospels\\nwere primarily written as theological documents rather than chronological timelines.\\nThe nativity is the basis for the Christian holiday of Christmas, and plays a major role in the\\nChristian liturgical year . Many Christians traditionally display small manger scenes depicting the\\nnativity in their homes, or attend nativity plays or Christmas pageants focusing on the nativity\\ncycle in the Bible. Elaborate nativity displays featuring life-sized statues are a tradition in many\\ncontinental European countries during the Christmas season.\\nThe artistic depiction of the nativity has been an important subject for Christian artists since the\\n4th century . Artistic depictions of the nativity scene since the 13th century have emphasized the\\nhumility of Jesus and promoted a more tender image of him, a major change from the early \"Lord\\nand Master\" image, mirroring changes in the common approaches taken by Christian pastoral\\nministry during the same era.\\nEarly Christians viewed Jesus as \"the Lord\" and the word Kyrios appears over 700 times in the\\nNew Testament, referring to him as such.[1 12] The use of the word Kyrios in the Septuagint Bible'"
      ]
     },
     "execution_count": 12,
     "metadata": {},
     "output_type": "execute_result"
    }
   ],
   "source": [
    "# How to Extract the text\n",
    "# prev reader.pages[0].extractText()\n",
    "reader.pages[0].extract_text()"
   ]
  },
  {
   "cell_type": "code",
   "execution_count": 13,
   "id": "b8224eb6-6938-4ce6-a6be-7af082e9e268",
   "metadata": {},
   "outputs": [],
   "source": [
    "### A Function To get Meta Data\n",
    "def get_pdf_metadata(pdf_path):\n",
    "    with open(pdf_path, \"rb\") as f:\n",
    "        reader = PdfReader(f)\n",
    "        info = reader.metadata\n",
    "    return info"
   ]
  },
  {
   "cell_type": "code",
   "execution_count": 14,
   "id": "f0bd287b-fd3d-418b-842e-8c78089da61b",
   "metadata": {},
   "outputs": [
    {
     "data": {
      "text/plain": [
       "{'/Title': 'Nativity_Example',\n",
       " '/Producer': 'Skia/PDF m110 Google Docs Renderer'}"
      ]
     },
     "execution_count": 14,
     "metadata": {},
     "output_type": "execute_result"
    }
   ],
   "source": [
    "get_pdf_metadata(\"Nativity_Example.pdf\")"
   ]
  },
  {
   "cell_type": "code",
   "execution_count": 15,
   "id": "9ea7fad6-7967-40b1-91f6-17c24a462426",
   "metadata": {},
   "outputs": [],
   "source": [
    "### Function to Extract Text From PDF\n",
    "def extract_text_from_pdf(pdf_path):\n",
    "    with open(pdf_path,\"rb\") as f:\n",
    "        reader = PdfReader(f)\n",
    "        results = []\n",
    "        for i in range(0,len(reader.pages)): # prev read.getNumPages()\n",
    "            selected_page = reader.pages[i]\n",
    "            text = selected_page.extract_text()\n",
    "            results.append(text)\n",
    "        return ' '.join(results) # convert list to a single doc\n",
    "        \n",
    "            "
   ]
  },
  {
   "cell_type": "code",
   "execution_count": 16,
   "id": "66d120fe-0020-4eed-915a-90af982ccdf8",
   "metadata": {
    "jupyter": {
     "outputs_hidden": true
    },
    "tags": []
   },
   "outputs": [
    {
     "data": {
      "text/plain": [
       "'The nativity of Jesus, nativity of Christ, birth of Jesus or birth of Christ is described in the biblical\\ngospels of Luke and Matthew . The two accounts agree that Jesus was born in Bethlehem in\\nJudaea, his mother Mary was engaged to a man named Joseph, who was descended from King\\nDavid and was not his biological father , and that his birth was caused by divine intervention.\\nMany modern scholars consider the birth narratives unhistorical because they are laced with\\ntheology and present two dif ferent accounts which cannot be harmonised into a single coherent\\nnarrative. But many others view the discussion of historicity as secondary , given that gospels\\nwere primarily written as theological documents rather than chronological timelines.\\nThe nativity is the basis for the Christian holiday of Christmas, and plays a major role in the\\nChristian liturgical year . Many Christians traditionally display small manger scenes depicting the\\nnativity in their homes, or attend nativity plays or Christmas pageants focusing on the nativity\\ncycle in the Bible. Elaborate nativity displays featuring life-sized statues are a tradition in many\\ncontinental European countries during the Christmas season.\\nThe artistic depiction of the nativity has been an important subject for Christian artists since the\\n4th century . Artistic depictions of the nativity scene since the 13th century have emphasized the\\nhumility of Jesus and promoted a more tender image of him, a major change from the early \"Lord\\nand Master\" image, mirroring changes in the common approaches taken by Christian pastoral\\nministry during the same era.\\nThe nativity of Jesus, nativity of Christ, birth of Jesus or birth of Christ is described in the biblical\\ngospels of Luke and Matthew . The two accounts agree that Jesus was born in Bethlehem in\\nJudaea, his mother Mary was engaged to a man named Joseph, who was descended from King\\nDavid and was not his biological father , and that his birth was caused by divine intervention.\\nMany modern scholars consider the birth narratives unhistorical because they are laced with\\ntheology and present two dif ferent accounts which cannot be harmonised into a single coherent\\nnarrative. But many others view the discussion of historicity as secondary , given that gospels\\nwere primarily written as theological documents rather than chronological timelines.\\nThe nativity is the basis for the Christian holiday of Christmas, and plays a major role in the\\nChristian liturgical year . Many Christians traditionally display small manger scenes depicting the\\nnativity in their homes, or attend nativity plays or Christmas pageants focusing on the nativity\\ncycle in the Bible. Elaborate nativity displays featuring life-sized statues are a tradition in many\\ncontinental European countries during the Christmas season.\\nThe artistic depiction of the nativity has been an important subject for Christian artists since the\\n4th century . Artistic depictions of the nativity scene since the 13th century have emphasized the\\nhumility of Jesus and promoted a more tender image of him, a major change from the early \"Lord\\nand Master\" image, mirroring changes in the common approaches taken by Christian pastoral\\nministry during the same era.\\nEarly Christians viewed Jesus as \"the Lord\" and the word Kyrios appears over 700 times in the\\nNew Testament, referring to him as such.[1 12] The use of the word Kyrios in the Septuagint Bible also assigned to Jesus the Old Testament attributes of an omnipotent God.[1 12] The use of the\\nterm Kyrios, and hence the Lordship of Jesus, pre-dated the Pauline epistles, but Paul expanded\\nand elaborated on the topic.[1 12]\\nPauline writings established among early Christians the Kyrios image, and attributes of Jesus as\\nnot only referring to his eschatological victory , but to him as the \"divine image\" (Greek \\nεἰκών,\\neikōn) in whose face the glory of God shines forth. This image persisted among Christians as the\\npredominant perception of Jesus for a number of centuries.[1 13] More than any other title, Kyrios\\ndefined the relationship between Jesus and those who believed in him as Christ: Jesus was their\\nLord and Master who was to be served with all their hearts and who would one day judge their\\nactions throughout their lives.[1 14]\\nThe lordship attributes associated with the Kyrios image of Jesus also implied his power over all\\ncreation.[1 15][1 16] Paul then looked back and reasoned that the final lordship of Jesus was\\nprepared from the very beginning, starting with pre-existence and the nativity , based on his\\nobedience as the image of God.[1 17] Over time, based on the influence of Anselm of Canterbury ,\\nBernard of Clairvaux and others, the Kyrios image of Jesus began to be supplemented with a\\nmore \"tender image of Jesus\", and the Franciscan approach to popular piety was instrumental in\\nestablishing this image.[1 16]\\nThe 13th century witnessed a major turning point in the development of a new \"tender image of\\nJesus\" within Christianity , as the Franciscans began to emphasize the humility of Jesus both at\\nhis birth and his death. The construction of the nativity scene by Francis of Assisi was\\ninstrumental in portraying a softer image of Jesus that contrasted with the powerful and radiant\\nimage at the Transfiguration, and emphasized how God had taken a humble path to his own\\nbirth.[1 18] As the Black Death raged in Medieval Europe, the two mendicant orders of\\nFranciscans and Dominicans helped the faithful cope with tragedies. One element of the\\nFranciscan approach was the emphasis on the humility of Jesus and the poverty of his birth: the\\nimage of God was the image of Jesus, not a severe and punishing God, but himself humble at\\nbirth and sacrificed at death.[1 19] The concept that the omnipotent Creator would set aside all\\npower in order to conquer the hearts of men by love and that he would have been helplessly\\nplaced in a manger was as marvelous and as touching to the believers as the sacrifice of dying\\non the cross in Calvary .[120]\\nThus by the 13th century the tender joys of the nativity of Jesus were added to the agony of his\\nCrucifixion and a whole new range of approved religious emotions was ushered in, with\\nwide-ranging cultural impacts for centuries thereafter .[120] The Franciscans approached both\\nends of this spectrum of emotions. On one hand the introduction of the nativity scene\\nencouraged the tender image of Jesus, while on the other hand Francis of Assisi himself had a\\ndeep attachment to the suf ferings of Jesus on the Cross and was said to have received the\\nstigmata as an expression of that love. The dual nature of Franciscan piety based both on joy of\\nnativity and the sacrifice at Calvary had a deep appeal among city dwellers and as the\\nFranciscan Friars travelled these emotions spread across the world, transforming the Kyrios\\nimage of Jesus to a more tender , loving, and compassionate image.[120] These traditions did not\\nremain limited to Europe and soon spread to the other parts of the world such as Latin America,\\nthe Philippines and the United States.[121][122] What is PDF ?\\nPortable Document Format (PDF), standardized as ISO 32000, is a file format developed by\\nAdobe in 1992 to present documents, including text formatting and images, in a manner\\nindependent of application software, hardware, and operating systems.[2][3] Based on the\\nPostScript language, each PDF file encapsulates a complete description of a fixed-layout flat\\ndocument, including the text, fonts, vector graphics, raster images and other information needed\\nto display it. PDF has its roots in \"The Camelot Project\" initiated by Adobe co-founder John\\nWarnock in 1991.[4]\\nPDF was standardized as ISO 32000 in 2008.[5] The last edition as ISO 32000-2:2020 was\\npublished in December 2020.\\nPDF files may contain a variety of content besides flat text and graphics including logical\\nstructuring elements, interactive elements such as annotations and form-fields, layers, rich media\\n(including video content), three-dimensional objects using U3D or PRC, and various other data\\nformats. The PDF specification also provides for encryption and digital signatures, file\\nattachments, and metadata to enable workflows requiring these features.'"
      ]
     },
     "execution_count": 16,
     "metadata": {},
     "output_type": "execute_result"
    }
   ],
   "source": [
    "extract_text_from_pdf(\"Nativity_Example.pdf\")"
   ]
  },
  {
   "cell_type": "code",
   "execution_count": null,
   "id": "a458b578-de10-4970-a6c7-bb05997a7f4f",
   "metadata": {},
   "outputs": [],
   "source": []
  },
  {
   "cell_type": "markdown",
   "id": "32f97777-e91a-4681-8bfa-073a6c27d325",
   "metadata": {},
   "source": [
    "#### How to Split PDFs\n",
    "+ Split into multiple pdfs\n",
    "+ Split off the last page\n",
    "+ Get PDF upto a Particular Page"
   ]
  },
  {
   "cell_type": "code",
   "execution_count": 17,
   "id": "b0476c9c-6bca-447b-8038-7a6b2d3770e4",
   "metadata": {
    "jupyter": {
     "source_hidden": true
    },
    "tags": []
   },
   "outputs": [],
   "source": [
    "# Function to Split PDF into Multiple PDF Pages\n",
    "import os\n",
    "def split_pdf(pdf_path):\n",
    "    with open(pdf_path,\"rb\") as f:\n",
    "        reader = PdfReader(f)\n",
    "        # get all pages\n",
    "        for page_num in range(0, len(reader.pages)): # loop through pages\n",
    "            selected_page = reader.pages[page_num]\n",
    "            # Writer to write\n",
    "            writer = PdfWriter()\n",
    "            writer.add_page(selected_page) # add/embedding of the page\n",
    "            filename = os.path.splitext(pdf_path)[0]\n",
    "            output_filename = f\"{filename}_page_{page_num + 1}.pdf\"\n",
    "            # save and compile to pdf\n",
    "            with open(output_filename,\"wb\") as out:\n",
    "                writer.write(out)\n",
    "                \n",
    "            print(\"created a pdf:{}\".format(output_filename))\n",
    "            "
   ]
  },
  {
   "cell_type": "code",
   "execution_count": 18,
   "id": "e69b14c2-fa54-485b-8a05-dfd92ef5d9dd",
   "metadata": {},
   "outputs": [
    {
     "name": "stdout",
     "output_type": "stream",
     "text": [
      "created a pdf:Nativity_Example_page_1.pdf\n",
      "created a pdf:Nativity_Example_page_2.pdf\n",
      "created a pdf:Nativity_Example_page_3.pdf\n"
     ]
    }
   ],
   "source": [
    "split_pdf(\"Nativity_Example.pdf\")"
   ]
  },
  {
   "cell_type": "code",
   "execution_count": 19,
   "id": "55242f8d-3994-481c-a7d3-d9ef4a9442f5",
   "metadata": {
    "tags": []
   },
   "outputs": [],
   "source": [
    "# Split PDF Upto A Page\n",
    "def get_pdf_upto(pdf_path,start_page:int=0,stop_page: int = 0):\n",
    "    with open(pdf_path,\"rb\") as f:\n",
    "        reader = PdfReader(f)\n",
    "        writer = PdfWriter()\n",
    "        for page_num in range(start_page,stop_page):\n",
    "            selected_page = reader.pages[page_num]\n",
    "            writer.add_page(selected_page) # prev ::  addPage()\n",
    "            filename = os.path.splitext(pdf_path)[0]\n",
    "            output_filename = f\"{filename}_from_{start_page}_to_{stop_page}.pdf\"\n",
    "        with open(output_filename, \"wb\") as out:\n",
    "            writer.write(out)\n",
    "            "
   ]
  },
  {
   "cell_type": "code",
   "execution_count": 20,
   "id": "ec2a77d6-9586-4a90-83c0-fa0c776569de",
   "metadata": {},
   "outputs": [],
   "source": [
    "get_pdf_upto(\"Nativity_Example.pdf\",0,2)"
   ]
  },
  {
   "cell_type": "code",
   "execution_count": 21,
   "id": "22b1df22-6f63-4f52-8491-533cb0b37d2e",
   "metadata": {},
   "outputs": [],
   "source": [
    "get_pdf_upto(\"Nativity_Example.pdf\",1,2)"
   ]
  },
  {
   "cell_type": "code",
   "execution_count": 22,
   "id": "169edd8d-1c17-4fc4-aad4-b85e05c013e6",
   "metadata": {},
   "outputs": [],
   "source": [
    "### How to get the last page of PDF\n",
    "def get_last_pdf_page(pdf_path):\n",
    "     with open(pdf_path,\"rb\") as f:\n",
    "        reader = PdfReader(f)\n",
    "        writer = PdfWriter()\n",
    "        selected_page = reader.pages[len(reader.pages)-1]\n",
    "        writer.add_page(selected_page)\n",
    "        filename = os.path.splitext(pdf_path)[0]\n",
    "        output_filename = f\"{filename}_last_page.pdf\"\n",
    "        with open(output_filename, \"wb\") as out:\n",
    "            writer.write(out)\n",
    "        print(\"created last page\")"
   ]
  },
  {
   "cell_type": "code",
   "execution_count": 23,
   "id": "bce0e03d-5def-4c4a-90dc-ded174bcda89",
   "metadata": {},
   "outputs": [
    {
     "name": "stdout",
     "output_type": "stream",
     "text": [
      "created last page\n"
     ]
    }
   ],
   "source": [
    "get_last_pdf_page(\"Nativity_Example.pdf\")"
   ]
  },
  {
   "cell_type": "markdown",
   "id": "e30643fd-a64d-46ee-9155-48f721b9e6e6",
   "metadata": {},
   "source": [
    "#### Merging PDFs \n",
    "+ get a list of pdfs\n",
    "+ PdfMerger (PdfFileMerger)"
   ]
  },
  {
   "cell_type": "code",
   "execution_count": 24,
   "id": "5f284ccd-86fb-4243-808b-b528c6b48e10",
   "metadata": {
    "tags": []
   },
   "outputs": [],
   "source": [
    "def fetch_all_pdf_files(parent_folder: str):\n",
    "    target_files = []\n",
    "    for path, subdirs, files in os.walk(parent_folder):\n",
    "        for name in files:\n",
    "            if name.endswith(\".pdf\"):\n",
    "                target_files.append(os.path.join(path, name))\n",
    "    return target_files "
   ]
  },
  {
   "cell_type": "code",
   "execution_count": 25,
   "id": "ad905131-331c-4815-9c2a-3401d34e959b",
   "metadata": {},
   "outputs": [
    {
     "data": {
      "text/plain": [
       "[]"
      ]
     },
     "execution_count": 25,
     "metadata": {},
     "output_type": "execute_result"
    }
   ],
   "source": [
    "fetch_all_pdf_files(\"./Out\")"
   ]
  },
  {
   "cell_type": "code",
   "execution_count": 26,
   "id": "d9b93dd7-a849-4a82-badc-a2177a90d093",
   "metadata": {},
   "outputs": [],
   "source": [
    "from PyPDF2 import PdfMerger"
   ]
  },
  {
   "cell_type": "code",
   "execution_count": 27,
   "id": "3d1ebbce-dee0-4717-94d2-e33b45ae22cc",
   "metadata": {},
   "outputs": [],
   "source": [
    "def merge_pdf(list_of_pdfs,output_filename=\"final_merged_file.pdf\"):\n",
    "    merger = PdfMerger()\n",
    "    with open(output_filename,\"wb\") as f:\n",
    "        for file in list_of_pdfs:\n",
    "            merger.append(file)\n",
    "        merger.write(f)"
   ]
  },
  {
   "cell_type": "code",
   "execution_count": 28,
   "id": "cde9e845-fb8f-4ee4-8a2c-7fe3096ec5bc",
   "metadata": {},
   "outputs": [],
   "source": [
    "pdf_list = fetch_all_pdf_files(\"./Out\")"
   ]
  },
  {
   "cell_type": "code",
   "execution_count": 29,
   "id": "704f366a-67d0-48fb-94d0-95b1799c4557",
   "metadata": {},
   "outputs": [],
   "source": [
    "merge_pdf(pdf_list)"
   ]
  },
  {
   "cell_type": "markdown",
   "id": "6215f91d-879b-4da5-afd3-91ca6c03c01f",
   "metadata": {},
   "source": [
    "### How to Rotate A PDF Page"
   ]
  },
  {
   "cell_type": "code",
   "execution_count": 30,
   "id": "89fe9875-5e37-478b-9e4e-813d25d5e585",
   "metadata": {},
   "outputs": [],
   "source": [
    "def rotate_pdf(pdf_path,page_num:int, rotation: int = 90):\n",
    "    with open(pdf_path,\"rb\") as f:\n",
    "        reader = PdfReader(f)\n",
    "        writer = PdfWriter()\n",
    "        writer.add_page(reader.pages[page_num])\n",
    "        # rotate\n",
    "        writer.pages[page_num].rotate(rotation)\n",
    "        filename = os.path.splitext(pdf_path)[0]\n",
    "        output_filename = f\"{filename}_{rotation}_rotated_page.pdf\"\n",
    "        with open(output_filename, \"wb\") as out:\n",
    "            writer.write(out)\n",
    "        print(\"rotated page\")\n",
    "        "
   ]
  },
  {
   "cell_type": "code",
   "execution_count": 31,
   "id": "78e02f59-82dd-4821-8010-f79bc4025587",
   "metadata": {},
   "outputs": [
    {
     "name": "stdout",
     "output_type": "stream",
     "text": [
      "rotated page\n"
     ]
    }
   ],
   "source": [
    "rotate_pdf(\"Nativity_Example_last_page.pdf\",0)"
   ]
  },
  {
   "cell_type": "code",
   "execution_count": 32,
   "id": "d2cb707d-12aa-43bb-a3d7-30895263ebb6",
   "metadata": {},
   "outputs": [
    {
     "name": "stdout",
     "output_type": "stream",
     "text": [
      "rotated page\n"
     ]
    }
   ],
   "source": [
    "rotate_pdf(\"Nativity_Example_last_page.pdf\",0,180)"
   ]
  },
  {
   "cell_type": "markdown",
   "id": "e1cba337-8a4b-4fc8-8784-87f5083787dc",
   "metadata": {},
   "source": [
    "#### Working with Images in PDF\n",
    "+ How to extract images from pdf\n",
    "+ How to convert images to pdf"
   ]
  },
  {
   "cell_type": "code",
   "execution_count": 33,
   "id": "b223df24-e49a-415d-af2b-eb3a7dde6f8e",
   "metadata": {},
   "outputs": [],
   "source": [
    "from PyPDF2 import PdfReader"
   ]
  },
  {
   "cell_type": "code",
   "execution_count": 34,
   "id": "0322e1bb-4c7f-4aa2-888a-17572cf98f8a",
   "metadata": {},
   "outputs": [],
   "source": [
    "def extract_images_from_pdf(pdf_path):\n",
    "    with open(pdf_path,\"rb\") as f:\n",
    "        reader = PdfReader(f)\n",
    "        for page_num in range(0,len(reader.pages)):\n",
    "            selected_page = reader.pages[page_num]\n",
    "            for img_file_obj in selected_page.images:\n",
    "                with open(img_file_obj.name, \"wb\") as out:\n",
    "                    out.write(img_file_obj.data)\n",
    "                    \n",
    "                \n",
    "        "
   ]
  },
  {
   "cell_type": "code",
   "execution_count": 35,
   "id": "f65e3144-8ad2-4df4-a29b-d8e5c9960771",
   "metadata": {},
   "outputs": [],
   "source": [
    "extract_images_from_pdf(\"ML_Wiki.pdf\")"
   ]
  },
  {
   "cell_type": "markdown",
   "id": "d9d7fe9f-762d-426e-9537-3c57a17f577a",
   "metadata": {},
   "source": [
    "#### How to Convert Img to PDF"
   ]
  },
  {
   "cell_type": "code",
   "execution_count": 36,
   "id": "1b27034e-6424-4a63-8b3b-4f6e93a3d045",
   "metadata": {},
   "outputs": [],
   "source": [
    "from PIL import Image"
   ]
  },
  {
   "cell_type": "code",
   "execution_count": 37,
   "id": "ac1fd4eb-157c-4f39-bedf-2f69a3e284f5",
   "metadata": {},
   "outputs": [],
   "source": [
    "def convert_img2pdf(image_file):\n",
    "    my_image = Image.open(image_file)\n",
    "    img = my_image.convert(\"RGB\")\n",
    "    filename = f\"{os.path.splitext(image_file)[0]}.pdf\"\n",
    "    img.save(filename)"
   ]
  },
  {
   "cell_type": "code",
   "execution_count": 38,
   "id": "c0cc23a6-ff8c-43cb-98bb-ea2fe0cedd9d",
   "metadata": {},
   "outputs": [],
   "source": [
    "convert_img2pdf(\"X8.png\")"
   ]
  },
  {
   "cell_type": "code",
   "execution_count": null,
   "id": "32b57294-8a33-41b7-9031-56e9e471063c",
   "metadata": {},
   "outputs": [],
   "source": []
  },
  {
   "cell_type": "code",
   "execution_count": 39,
   "id": "e4eddf5a-a9df-48a6-8273-b5b9745fcbc3",
   "metadata": {},
   "outputs": [],
   "source": []
  },
  {
   "cell_type": "code",
   "execution_count": null,
   "id": "c8d4981e-7d8e-42ea-a291-eb4f9282798a",
   "metadata": {},
   "outputs": [],
   "source": []
  }
 ],
 "metadata": {
  "kernelspec": {
   "display_name": "Python 3 (ipykernel)",
   "language": "python",
   "name": "python3"
  },
  "language_info": {
   "codemirror_mode": {
    "name": "ipython",
    "version": 3
   },
   "file_extension": ".py",
   "mimetype": "text/x-python",
   "name": "python",
   "nbconvert_exporter": "python",
   "pygments_lexer": "ipython3",
   "version": "3.9.13"
  }
 },
 "nbformat": 4,
 "nbformat_minor": 5
}
